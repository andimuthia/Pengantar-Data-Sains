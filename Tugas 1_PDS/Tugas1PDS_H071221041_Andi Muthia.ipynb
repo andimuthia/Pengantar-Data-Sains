{
  "nbformat": 4,
  "nbformat_minor": 0,
  "metadata": {
    "colab": {
      "provenance": []
    },
    "kernelspec": {
      "name": "python3",
      "display_name": "Python 3"
    },
    "language_info": {
      "name": "python"
    }
  },
  "cells": [
    {
      "cell_type": "markdown",
      "source": [
        "1. Install Modul kaggle:1. Install Modul kaggle:"
      ],
      "metadata": {
        "id": "ixaaZPoyM7IH"
      }
    },
    {
      "cell_type": "code",
      "source": [
        "# Install modul kaggle secara inline (di dalam notebook)\n",
        "!pip install kaggle"
      ],
      "metadata": {
        "colab": {
          "base_uri": "https://localhost:8080/"
        },
        "id": "WxdCBUZqNGMW",
        "outputId": "36db5963-acd4-4b9d-e1db-2911b9eff479"
      },
      "execution_count": 1,
      "outputs": [
        {
          "output_type": "stream",
          "name": "stdout",
          "text": [
            "Requirement already satisfied: kaggle in /usr/local/lib/python3.10/dist-packages (1.5.16)\n",
            "Requirement already satisfied: six>=1.10 in /usr/local/lib/python3.10/dist-packages (from kaggle) (1.16.0)\n",
            "Requirement already satisfied: certifi in /usr/local/lib/python3.10/dist-packages (from kaggle) (2023.7.22)\n",
            "Requirement already satisfied: python-dateutil in /usr/local/lib/python3.10/dist-packages (from kaggle) (2.8.2)\n",
            "Requirement already satisfied: requests in /usr/local/lib/python3.10/dist-packages (from kaggle) (2.31.0)\n",
            "Requirement already satisfied: tqdm in /usr/local/lib/python3.10/dist-packages (from kaggle) (4.66.1)\n",
            "Requirement already satisfied: python-slugify in /usr/local/lib/python3.10/dist-packages (from kaggle) (8.0.1)\n",
            "Requirement already satisfied: urllib3 in /usr/local/lib/python3.10/dist-packages (from kaggle) (2.0.4)\n",
            "Requirement already satisfied: bleach in /usr/local/lib/python3.10/dist-packages (from kaggle) (6.0.0)\n",
            "Requirement already satisfied: webencodings in /usr/local/lib/python3.10/dist-packages (from bleach->kaggle) (0.5.1)\n",
            "Requirement already satisfied: text-unidecode>=1.3 in /usr/local/lib/python3.10/dist-packages (from python-slugify->kaggle) (1.3)\n",
            "Requirement already satisfied: charset-normalizer<4,>=2 in /usr/local/lib/python3.10/dist-packages (from requests->kaggle) (3.2.0)\n",
            "Requirement already satisfied: idna<4,>=2.5 in /usr/local/lib/python3.10/dist-packages (from requests->kaggle) (3.4)\n"
          ]
        }
      ]
    },
    {
      "cell_type": "code",
      "source": [
        "# Install modul kaggle secara eksternal melalui anaconda prompt:"
      ],
      "metadata": {
        "id": "ukpPdbaFNSnz"
      },
      "execution_count": 2,
      "outputs": []
    },
    {
      "cell_type": "markdown",
      "metadata": {
        "id": "3573bb82"
      },
      "source": [
        "**2. Create Token API kaggle:**"
      ]
    },
    {
      "cell_type": "markdown",
      "metadata": {
        "id": "74f2a922"
      },
      "source": [
        "1. Login Kaggle.com\n",
        "2. Kemudian pada menu Profile --> Account\n",
        "3. Klik Create New Api Token\n",
        "4. Maka akan terdownload file kaggle.json"
      ]
    },
    {
      "cell_type": "markdown",
      "metadata": {
        "id": "221df26e"
      },
      "source": [
        "Kaggle API secara default mengasumsikan bahwa file kaggle.json tersebut berada di dalam folder:\n",
        "* ~/.kaggle/ (Linux/Mac)  \n",
        "* C:\\Users\\<Windows-username>\\.kaggle\\ (Windows)\n",
        "\n",
        "Jika folder tersebut belum ada:\n",
        "1. Buat folder di direktori C:\\Users\\<Windows-username>\\.kaggle\\\n",
        "2. letakkan file kaggle.json kedalam folder tersebut"
      ]
    },
    {
      "cell_type": "markdown",
      "metadata": {
        "id": "d16ea781"
      },
      "source": [
        "**3. Download Dataset dari Kaggle:**"
      ]
    },
    {
      "cell_type": "code",
      "source": [
        "# Mencari dataset yang tersedia di kaggle --> pilih data provider dari UCIML\n",
        "!kaggle datasets list -s Iris"
      ],
      "metadata": {
        "colab": {
          "base_uri": "https://localhost:8080/"
        },
        "id": "bwA5_JqONzJJ",
        "outputId": "d9910fee-0456-4547-9990-4064ff96e064"
      },
      "execution_count": 3,
      "outputs": [
        {
          "output_type": "stream",
          "name": "stdout",
          "text": [
            "Traceback (most recent call last):\n",
            "  File \"/usr/local/bin/kaggle\", line 5, in <module>\n",
            "    from kaggle.cli import main\n",
            "  File \"/usr/local/lib/python3.10/dist-packages/kaggle/__init__.py\", line 23, in <module>\n",
            "    api.authenticate()\n",
            "  File \"/usr/local/lib/python3.10/dist-packages/kaggle/api/kaggle_api_extended.py\", line 403, in authenticate\n",
            "    raise IOError('Could not find {}. Make sure it\\'s located in'\n",
            "OSError: Could not find kaggle.json. Make sure it's located in /root/.kaggle. Or use the environment method.\n"
          ]
        }
      ]
    },
    {
      "cell_type": "code",
      "execution_count": null,
      "metadata": {
        "scrolled": true,
        "id": "c4fdf1cd",
        "outputId": "de4d34cb-2c8e-4898-c58f-422554cb108c",
        "colab": {
          "base_uri": "https://localhost:8080/"
        }
      },
      "outputs": [
        {
          "output_type": "stream",
          "name": "stdout",
          "text": [
            "Traceback (most recent call last):\n",
            "  File \"/usr/local/bin/kaggle\", line 5, in <module>\n",
            "    from kaggle.cli import main\n",
            "  File \"/usr/local/lib/python3.10/dist-packages/kaggle/__init__.py\", line 23, in <module>\n",
            "    api.authenticate()\n",
            "  File \"/usr/local/lib/python3.10/dist-packages/kaggle/api/kaggle_api_extended.py\", line 403, in authenticate\n",
            "    raise IOError('Could not find {}. Make sure it\\'s located in'\n",
            "OSError: Could not find kaggle.json. Make sure it's located in /root/.kaggle. Or use the environment method.\n"
          ]
        }
      ],
      "source": [
        "# Download dan ekstrak dataset, secara default akan berada dalam satu direktori dengan notebook ini\n",
        "!kaggle datasets download uciml/iris --unzip"
      ]
    },
    {
      "cell_type": "markdown",
      "metadata": {
        "id": "ff39f911"
      },
      "source": [
        "# Latihan (1)\n",
        "\n",
        "Silahkan Download sebuah dataset menggunakan API Kaggle"
      ]
    },
    {
      "cell_type": "code",
      "source": [
        "#Latihan (1)\n",
        "#Langkah nya seperti contoh diatas"
      ],
      "metadata": {
        "id": "AkrssN_2OBH7"
      },
      "execution_count": 4,
      "outputs": []
    },
    {
      "cell_type": "markdown",
      "metadata": {
        "id": "d5f4de7e"
      },
      "source": [
        "### PENGGUNAAN LIBRARY PANDAS dan NUMPY\n",
        "\n",
        "Pada materi ini, peserta sudah mendapatkan pemahaman mengenai data dan dataset. Penggunaan library pada Python memberikan kemudahan dalam proses data understanding. Beberapa library yang digunakan adalah library Pandas dan Numpy."
      ]
    },
    {
      "cell_type": "markdown",
      "metadata": {
        "id": "30213eba"
      },
      "source": [
        "# Latihan (2)\n",
        "\n",
        "Lakukan import Library Pandas dan Library Numpy"
      ]
    },
    {
      "cell_type": "code",
      "source": [
        "#Latihan(2)\n",
        "#Import Library Pandas\n",
        "\n",
        "import pandas as pd\n",
        "\n",
        "#Import Library Numpy\n",
        "\n",
        "import numpy as np"
      ],
      "metadata": {
        "id": "vDqSmCznOIxk"
      },
      "execution_count": 5,
      "outputs": []
    },
    {
      "cell_type": "markdown",
      "metadata": {
        "id": "093340c4"
      },
      "source": [
        "### DATAFRAME\n",
        "\n",
        "DataFrame adalah struktur data 2 dimensi yang berbentuk tabular (mempunyai baris dan kolom). Hampir semua data tidak hanya memiliki 1 kolom tetapi lebih dari 1 kolom, sehingga lebih cocok menggunakan pandas DataFrame untuk mengolahnya.\n",
        "\n",
        "Penggunaan dataframe pada Python dengan menggunakan syntaks: df."
      ]
    },
    {
      "cell_type": "markdown",
      "metadata": {
        "id": "aaf16da4"
      },
      "source": [
        "# Latihan (3)\n",
        "\n",
        "Panggil file (load dataset) dengan format .csv untuk dataset mengenai bunga Iris yang sudah peserta unduh dari Kaggle, dan akan disimpan di dalam dataframe df. Lalu tampilkan 5 baris awal dataset dengan function head()"
      ]
    },
    {
      "cell_type": "code",
      "source": [
        "#latihan(3)\n",
        "#Panggil file (load file bernama Iris.csv) dan simpan dalam dataframe Lalu tampilkan 5 baris awal dataset dengan function head()\n",
        "df = pd.read_csv('Iris.csv')\n",
        "print (df.head())"
      ],
      "metadata": {
        "colab": {
          "base_uri": "https://localhost:8080/"
        },
        "id": "ZvERcN4dOR75",
        "outputId": "c2e4ae89-f679-449f-c592-95bd0383a8c8"
      },
      "execution_count": 6,
      "outputs": [
        {
          "output_type": "stream",
          "name": "stdout",
          "text": [
            "   Id  SepalLengthCm  SepalWidthCm  PetalLengthCm  PetalWidthCm      Species\n",
            "0   1            5.1           3.5            1.4           0.2  Iris-setosa\n",
            "1   2            4.9           3.0            1.4           0.2  Iris-setosa\n",
            "2   3            4.7           3.2            1.3           0.2  Iris-setosa\n",
            "3   4            4.6           3.1            1.5           0.2  Iris-setosa\n",
            "4   5            5.0           3.6            1.4           0.2  Iris-setosa\n"
          ]
        }
      ]
    },
    {
      "cell_type": "markdown",
      "metadata": {
        "id": "57cb691d"
      },
      "source": [
        "# Telaah Data\n",
        "\n",
        "Pada telaah data, dapat dilakukan untuk mengetahui:\n",
        "- tipe data dari setiap kolom\n",
        "- deskripsi statistik data"
      ]
    },
    {
      "cell_type": "markdown",
      "metadata": {
        "id": "8d9c4969"
      },
      "source": [
        "# Latihan (4)\n",
        "\n",
        "Tampilkan tipe data dari kolom yang ada pada dataset"
      ]
    },
    {
      "cell_type": "code",
      "source": [
        "#latihan(4)\n",
        "#Tampilkan tipe data dari kolom yang ada pada dataset\n",
        "\n",
        "print(df.dtypes)"
      ],
      "metadata": {
        "colab": {
          "base_uri": "https://localhost:8080/"
        },
        "id": "GctsvZpsOaO_",
        "outputId": "0bbe28b1-061f-4731-e866-3ed1636e28ec"
      },
      "execution_count": 7,
      "outputs": [
        {
          "output_type": "stream",
          "name": "stdout",
          "text": [
            "Id                 int64\n",
            "SepalLengthCm    float64\n",
            "SepalWidthCm     float64\n",
            "PetalLengthCm    float64\n",
            "PetalWidthCm     float64\n",
            "Species           object\n",
            "dtype: object\n"
          ]
        }
      ]
    },
    {
      "cell_type": "markdown",
      "metadata": {
        "id": "c7c788d4"
      },
      "source": [
        "# Latihan (5)\n",
        "\n",
        "Apakah tipe Data dari kolom berikut ini: (silakan diisi pada cell di bawah ini)\n"
      ]
    },
    {
      "cell_type": "code",
      "source": [
        "#Latihan (5)\n",
        "#Tipe Data dari kolom yang ada di dataset\n",
        "\n",
        "#Kolom Id memiliki tipe data = int64\n",
        "#Kolom SepalLengthCm memiliki tipe data = float64\n",
        "#Kolom SepalWidhtCm memiliki tipe data = float64\n",
        "#Kolom PetalLengthCm memiliki tipe data = float64\n",
        "#Kolom PetalWidthCm memiliki tipe data = float64\n",
        "#Kolom Species memiliki tipe data = object"
      ],
      "metadata": {
        "id": "slrqdtZ1Oe7u"
      },
      "execution_count": null,
      "outputs": []
    },
    {
      "cell_type": "markdown",
      "metadata": {
        "id": "d6dbe264"
      },
      "source": [
        "# Latihan (6)\n",
        "\n",
        "Hitunglah ukuran (jumlah baris dan kolom) dari dataset. Dengan menggunakan method function"
      ]
    },
    {
      "cell_type": "code",
      "source": [
        "#Latihan (6)\n",
        "#Hitung ukuran (jumlah baris dan kolom) dari dataset\n",
        "\n",
        "baris, kolom = df.shape\n",
        "print(f\"jumlah baris = {baris}\")\n",
        "print(f\"jumlah kolom = {kolom}\")"
      ],
      "metadata": {
        "colab": {
          "base_uri": "https://localhost:8080/"
        },
        "id": "Kt06h8KnOxwj",
        "outputId": "7d846384-fcfd-48ec-e9a2-956da87fd78f"
      },
      "execution_count": 8,
      "outputs": [
        {
          "output_type": "stream",
          "name": "stdout",
          "text": [
            "jumlah baris = 150\n",
            "jumlah kolom = 6\n"
          ]
        }
      ]
    },
    {
      "cell_type": "markdown",
      "metadata": {
        "id": "10b682fe"
      },
      "source": [
        "# Latihan (7)\n",
        "\n",
        "Berapakah jumlah baris, dan jumlah kolom pada dataset? (silakan diisi pada cell di bawah ini)"
      ]
    },
    {
      "cell_type": "code",
      "source": [
        "#Latihan (7)\n",
        "\n",
        "#Jumlah Baris pada dataset adalah =  150\n",
        "\n",
        "#Jumlah kolom pada dataset adalah =  6"
      ],
      "metadata": {
        "id": "RyqomKk4O09J"
      },
      "execution_count": null,
      "outputs": []
    },
    {
      "cell_type": "markdown",
      "metadata": {
        "id": "d791948a"
      },
      "source": [
        "# Latihan (8)\n",
        "\n",
        "Tampilkan data yang hanya berisi kolom \"Id\" dan kolom \"Species\" dalam bentuk dataframe."
      ]
    },
    {
      "cell_type": "code",
      "source": [
        "#Latihan (8)\n",
        "#Tampilkan data untuk kolom \"Id\" dan kolom \"Species\" dalam bentuk dataframe\n",
        "\n",
        "print(df[['Id','Species']])"
      ],
      "metadata": {
        "colab": {
          "base_uri": "https://localhost:8080/"
        },
        "id": "DQxRHTXXO4Lx",
        "outputId": "afd3bb03-2691-4f31-b869-8671f246cfeb"
      },
      "execution_count": 9,
      "outputs": [
        {
          "output_type": "stream",
          "name": "stdout",
          "text": [
            "      Id         Species\n",
            "0      1     Iris-setosa\n",
            "1      2     Iris-setosa\n",
            "2      3     Iris-setosa\n",
            "3      4     Iris-setosa\n",
            "4      5     Iris-setosa\n",
            "..   ...             ...\n",
            "145  146  Iris-virginica\n",
            "146  147  Iris-virginica\n",
            "147  148  Iris-virginica\n",
            "148  149  Iris-virginica\n",
            "149  150  Iris-virginica\n",
            "\n",
            "[150 rows x 2 columns]\n"
          ]
        }
      ]
    },
    {
      "cell_type": "markdown",
      "metadata": {
        "id": "55cab550"
      },
      "source": [
        "# Latihan (9)\n",
        "\n",
        "Tampilkan data dengan dataframe, dan data yang ditampilkan adalah data pada baris dengan indeks 0 (nol) sampai dengan indeks 9 (sembilan)"
      ]
    },
    {
      "cell_type": "code",
      "source": [
        "#Latihan (9)\n",
        "#Tampilkan data dengan dataframe, dan data yang ditampilkan adalah baris dengan indeks 0 (nol) sampai dengan indeks 9 (sembilan)\n",
        "\n",
        "print(df.iloc[0:10])"
      ],
      "metadata": {
        "colab": {
          "base_uri": "https://localhost:8080/"
        },
        "id": "Gfunhvm-O81q",
        "outputId": "ba4e61e6-5f0f-4e02-cb16-1735de717817"
      },
      "execution_count": 10,
      "outputs": [
        {
          "output_type": "stream",
          "name": "stdout",
          "text": [
            "   Id  SepalLengthCm  SepalWidthCm  PetalLengthCm  PetalWidthCm      Species\n",
            "0   1            5.1           3.5            1.4           0.2  Iris-setosa\n",
            "1   2            4.9           3.0            1.4           0.2  Iris-setosa\n",
            "2   3            4.7           3.2            1.3           0.2  Iris-setosa\n",
            "3   4            4.6           3.1            1.5           0.2  Iris-setosa\n",
            "4   5            5.0           3.6            1.4           0.2  Iris-setosa\n",
            "5   6            5.4           3.9            1.7           0.4  Iris-setosa\n",
            "6   7            4.6           3.4            1.4           0.3  Iris-setosa\n",
            "7   8            5.0           3.4            1.5           0.2  Iris-setosa\n",
            "8   9            4.4           2.9            1.4           0.2  Iris-setosa\n",
            "9  10            4.9           3.1            1.5           0.1  Iris-setosa\n"
          ]
        }
      ]
    },
    {
      "cell_type": "markdown",
      "metadata": {
        "id": "07881512"
      },
      "source": [
        "# Latihan (10)\n",
        "\n",
        "Tampilkan data hanya kolom \"Id\" dan kolom \"Species\" dengan dataframe, dan yang ditampilkan adalah data pada baris dengan indeks 11 (sebelas) sampai dengan indeks 15 (limabelas)"
      ]
    },
    {
      "cell_type": "code",
      "source": [
        "#Latihan (10)\n",
        "#Tampilkan data hanya kolom \"Id\" dan kolom \"Species\", pada baris dengan indeks 0 (nol) sampai dengan indeks 9 (sembilan)\n",
        "\n",
        "print(df.loc[11:15, (\"Id\",\"Species\")])"
      ],
      "metadata": {
        "colab": {
          "base_uri": "https://localhost:8080/"
        },
        "id": "_yilSuAZPBRD",
        "outputId": "b3982e51-1aa8-4bac-ee7f-d4bacbbd82a1"
      },
      "execution_count": 11,
      "outputs": [
        {
          "output_type": "stream",
          "name": "stdout",
          "text": [
            "    Id      Species\n",
            "11  12  Iris-setosa\n",
            "12  13  Iris-setosa\n",
            "13  14  Iris-setosa\n",
            "14  15  Iris-setosa\n",
            "15  16  Iris-setosa\n"
          ]
        }
      ]
    },
    {
      "cell_type": "markdown",
      "metadata": {
        "id": "b9d45825"
      },
      "source": [
        "# Latihan (11)\n",
        "\n",
        "Pada DataFrame dapat menampilkan beberapa baris pertama/terakhir dari dataset yang di load. Gunakan Method head() dan tail().\n",
        "\n",
        "Latihan: Tampilkan data pada 8 (delapan) baris pertama dari dataset, dengan dataframe."
      ]
    },
    {
      "cell_type": "code",
      "source": [
        "#Latihan (11)\n",
        "#Tampilkan data pada 8 (delapan) baris pertama dari dataset, dengan dataframe\n",
        "\n",
        "print (df.head(8))"
      ],
      "metadata": {
        "colab": {
          "base_uri": "https://localhost:8080/"
        },
        "id": "6qyAKdziPGvJ",
        "outputId": "a5bc2ca6-14e1-4b24-b614-15d8c749db51"
      },
      "execution_count": 12,
      "outputs": [
        {
          "output_type": "stream",
          "name": "stdout",
          "text": [
            "   Id  SepalLengthCm  SepalWidthCm  PetalLengthCm  PetalWidthCm      Species\n",
            "0   1            5.1           3.5            1.4           0.2  Iris-setosa\n",
            "1   2            4.9           3.0            1.4           0.2  Iris-setosa\n",
            "2   3            4.7           3.2            1.3           0.2  Iris-setosa\n",
            "3   4            4.6           3.1            1.5           0.2  Iris-setosa\n",
            "4   5            5.0           3.6            1.4           0.2  Iris-setosa\n",
            "5   6            5.4           3.9            1.7           0.4  Iris-setosa\n",
            "6   7            4.6           3.4            1.4           0.3  Iris-setosa\n",
            "7   8            5.0           3.4            1.5           0.2  Iris-setosa\n"
          ]
        }
      ]
    },
    {
      "cell_type": "markdown",
      "metadata": {
        "id": "848e2685"
      },
      "source": [
        "# Latihan (12)\n",
        "\n",
        "Tampilkan data pada 3 (tiga) baris terakhir dari dataset, dengan dataframe."
      ]
    },
    {
      "cell_type": "code",
      "source": [
        "#Latihan (12)\n",
        "#Tampilkan data pada 3 (tiga) baris terakhir dari dataset, dengan dataframe\n",
        "\n",
        "print (df.tail(3))"
      ],
      "metadata": {
        "colab": {
          "base_uri": "https://localhost:8080/"
        },
        "id": "lzpbmnctPNLN",
        "outputId": "5f1a2608-20e4-4254-bc88-23dfd804b3aa"
      },
      "execution_count": 13,
      "outputs": [
        {
          "output_type": "stream",
          "name": "stdout",
          "text": [
            "      Id  SepalLengthCm  SepalWidthCm  PetalLengthCm  PetalWidthCm  \\\n",
            "147  148            6.5           3.0            5.2           2.0   \n",
            "148  149            6.2           3.4            5.4           2.3   \n",
            "149  150            5.9           3.0            5.1           1.8   \n",
            "\n",
            "            Species  \n",
            "147  Iris-virginica  \n",
            "148  Iris-virginica  \n",
            "149  Iris-virginica  \n"
          ]
        }
      ]
    },
    {
      "cell_type": "markdown",
      "metadata": {
        "id": "c56b158d"
      },
      "source": [
        "# Deskripsi Statistik Data\n",
        "\n",
        "DataFrame method describe() menampilkan statistik dasar setiap kolom data yang bertipe numerik, mencakup banyaknya data (count), rerata aritmetik (mean), simpangan baku (std), nilai terkecil (min), kuartil pertama (25%), kuartil kedua/median (50%), kuartil ketiga (75%), dan nilai terbesar (max)."
      ]
    },
    {
      "cell_type": "markdown",
      "metadata": {
        "id": "babc7591"
      },
      "source": [
        "# Latihan (13)\n",
        "\n",
        "Hitung korelasi dari dataset. Dengan menggunakan method function"
      ]
    },
    {
      "cell_type": "code",
      "source": [
        "#Latihan (13)\n",
        "#Hitung korelasi dataset\n",
        "\n",
        "print(df.corr(numeric_only = True))"
      ],
      "metadata": {
        "colab": {
          "base_uri": "https://localhost:8080/"
        },
        "id": "XQoU0rU9PWzF",
        "outputId": "f6b75501-50c8-46f7-ffba-eb1876d63d43"
      },
      "execution_count": 14,
      "outputs": [
        {
          "output_type": "stream",
          "name": "stdout",
          "text": [
            "                     Id  SepalLengthCm  SepalWidthCm  PetalLengthCm  \\\n",
            "Id             1.000000       0.716676     -0.397729       0.882747   \n",
            "SepalLengthCm  0.716676       1.000000     -0.109369       0.871754   \n",
            "SepalWidthCm  -0.397729      -0.109369      1.000000      -0.420516   \n",
            "PetalLengthCm  0.882747       0.871754     -0.420516       1.000000   \n",
            "PetalWidthCm   0.899759       0.817954     -0.356544       0.962757   \n",
            "\n",
            "               PetalWidthCm  \n",
            "Id                 0.899759  \n",
            "SepalLengthCm      0.817954  \n",
            "SepalWidthCm      -0.356544  \n",
            "PetalLengthCm      0.962757  \n",
            "PetalWidthCm       1.000000  \n"
          ]
        }
      ]
    },
    {
      "cell_type": "markdown",
      "metadata": {
        "id": "c2e67af5"
      },
      "source": [
        "# Latihan (14)\n",
        "\n",
        "Berdasarkan pada perhitungan korelasi di Latihan (11), apakah yang dapat Bapak/Ibu simpulkan sementara? Silakan tuliskan simpulan sementara Bapak/Ibu pada cell di bawah ini."
      ]
    },
    {
      "cell_type": "code",
      "source": [
        "#latihan (14)\n",
        "#Simpulan Sementara Hasil Korelasi di latihan (13)\n",
        "\n",
        "#Id vs SepalLengthCm: Terdapat korelasi positif yang cukup kuat\n",
        "#antara 'Id' dan 'SepalLengthCm' dengan koefisien korelasi mendekati 1 yaitu sekitar 0.7167.\n",
        "\n",
        "#SepalLengthCm vs SepalWidthCm: Korelasi antara 'SepalLengthCm' dan 'SepalWidthCm' adalah negatif\n",
        "#dengan koefisien sekitar -0.1094. Korelasi negatif menunjukkan bahwa ketika 'SepalLengthCm' meningkat,\n",
        "#maka 'SepalWidthCm' menurun, dan korelasinya sangat lemah.\n",
        "\n",
        "# SepalLengthCm vs PetalLengthCm: Terdapat korelasi positif yang kuat antara 'SepalLengthCm' dan 'PetalLengthCm'\n",
        "# dengan koefisien mendekati 1 yaitu sekitar 0.8718. Ini menunjukkan bahwa  'SepalLengthCm' dan 'PetalLengthCm'\n",
        "# cenderung bergerak bersamaan\n",
        "\n",
        "# PetalLengthCm vs PetalWidthCm: Terdapat korelasi positif yang sangat kuat\n",
        "# antara 'PetalLengthCm' dan 'PetalWidthCm' dengan koefisien hammpir mendekati 1 sekitar 0.9628\n",
        "\n",
        "# Id vs PetalWidthCm: Terdapat korelasi positif yang cukup kuat\n",
        "# antara 'Id' dan 'PetalWidthCm' dengan koefisien sekitar 0.8998"
      ],
      "metadata": {
        "id": "LkX6KTthPaY0"
      },
      "execution_count": null,
      "outputs": []
    },
    {
      "cell_type": "markdown",
      "metadata": {
        "id": "c4d917e8"
      },
      "source": [
        "# Latihan (15)\n",
        "\n",
        "Hitung korelasi untuk kolom berikut ini: PetalLengthCm, PetalWidthCm"
      ]
    },
    {
      "cell_type": "code",
      "source": [
        "#Latihan (15)\n",
        "#Hitung korelasi dataset untuk kolom PetalLengthCm, PetalWidthCm\n",
        "\n",
        "print(df[['PetalLengthCm','PetalWidthCm']].corr())"
      ],
      "metadata": {
        "colab": {
          "base_uri": "https://localhost:8080/"
        },
        "id": "D8UvLgnmPgJx",
        "outputId": "78c1f58c-9cbe-4186-f079-f0bacd9c7f14"
      },
      "execution_count": 15,
      "outputs": [
        {
          "output_type": "stream",
          "name": "stdout",
          "text": [
            "               PetalLengthCm  PetalWidthCm\n",
            "PetalLengthCm       1.000000      0.962757\n",
            "PetalWidthCm        0.962757      1.000000\n"
          ]
        }
      ]
    },
    {
      "cell_type": "markdown",
      "metadata": {
        "id": "c4ff0339"
      },
      "source": [
        "# Latihan (16)\n",
        "\n",
        "Method \"describe\" secara otomatis melakukan komputasi statistik untuk semua continous variable. Secara default \"describe\" melakukan ignore terhadap variabel bertype objek.\n",
        "\n",
        "Komputasi statistik yang dilakukan terdiri dari: count, mean, std, min, max, 25%, 75%, max.\n",
        "\n",
        "Latihan: Gunakan method describe pada dataset yang sudah di load untuk semua continous variabel. (Dataset Iris.csv)"
      ]
    },
    {
      "cell_type": "code",
      "source": [
        "#Latihan (16)\n",
        "# Penggunaan Metode describe untuk komputasi statistik\n",
        "\n",
        "print(df.describe())"
      ],
      "metadata": {
        "colab": {
          "base_uri": "https://localhost:8080/"
        },
        "id": "h1ls6hD-Plgs",
        "outputId": "432d976d-41bf-4c09-b32a-db437a98fbfb"
      },
      "execution_count": 16,
      "outputs": [
        {
          "output_type": "stream",
          "name": "stdout",
          "text": [
            "               Id  SepalLengthCm  SepalWidthCm  PetalLengthCm  PetalWidthCm\n",
            "count  150.000000     150.000000    150.000000     150.000000    150.000000\n",
            "mean    75.500000       5.843333      3.054000       3.758667      1.198667\n",
            "std     43.445368       0.828066      0.433594       1.764420      0.763161\n",
            "min      1.000000       4.300000      2.000000       1.000000      0.100000\n",
            "25%     38.250000       5.100000      2.800000       1.600000      0.300000\n",
            "50%     75.500000       5.800000      3.000000       4.350000      1.300000\n",
            "75%    112.750000       6.400000      3.300000       5.100000      1.800000\n",
            "max    150.000000       7.900000      4.400000       6.900000      2.500000\n"
          ]
        }
      ]
    },
    {
      "cell_type": "markdown",
      "metadata": {
        "id": "5bcef9fa"
      },
      "source": [
        "# Latihan (17)\n",
        "\n",
        "Gunakan method describe pada dataset yang sudah di load untuk data bertype objek. (Dataset Iris.csv)"
      ]
    },
    {
      "cell_type": "code",
      "source": [
        "#Latihan (17)\n",
        "#Gunakan method describe pada dataset yang sudah di load untuk data bertype objek\n",
        "\n",
        "column_obj = df.select_dtypes(include=['object'])\n",
        "desc = column_obj.describe()\n",
        "print(desc)"
      ],
      "metadata": {
        "colab": {
          "base_uri": "https://localhost:8080/"
        },
        "id": "K_T4Fq-MPqBS",
        "outputId": "bf165740-0cfd-464d-d8f4-12539964ee3e"
      },
      "execution_count": 17,
      "outputs": [
        {
          "output_type": "stream",
          "name": "stdout",
          "text": [
            "            Species\n",
            "count           150\n",
            "unique            3\n",
            "top     Iris-setosa\n",
            "freq             50\n"
          ]
        }
      ]
    },
    {
      "cell_type": "markdown",
      "metadata": {
        "id": "76126601"
      },
      "source": [
        "# Latihan 18\n",
        "\n",
        "Gunakan method describe pada dataset yang sudah di load untuk semua type data (continous variabel dan type object)."
      ]
    },
    {
      "cell_type": "code",
      "source": [
        "#Latihan (18)\n",
        "#Gunakan method describe pada dataset yang sudah di load untuk semua type data\n",
        "\n",
        "print(df.describe(include='all'))"
      ],
      "metadata": {
        "colab": {
          "base_uri": "https://localhost:8080/"
        },
        "id": "XCOsThLlP0di",
        "outputId": "6c8d3b02-76bf-46ec-ebde-be82fcab2750"
      },
      "execution_count": 18,
      "outputs": [
        {
          "output_type": "stream",
          "name": "stdout",
          "text": [
            "                Id  SepalLengthCm  SepalWidthCm  PetalLengthCm  PetalWidthCm  \\\n",
            "count   150.000000     150.000000    150.000000     150.000000    150.000000   \n",
            "unique         NaN            NaN           NaN            NaN           NaN   \n",
            "top            NaN            NaN           NaN            NaN           NaN   \n",
            "freq           NaN            NaN           NaN            NaN           NaN   \n",
            "mean     75.500000       5.843333      3.054000       3.758667      1.198667   \n",
            "std      43.445368       0.828066      0.433594       1.764420      0.763161   \n",
            "min       1.000000       4.300000      2.000000       1.000000      0.100000   \n",
            "25%      38.250000       5.100000      2.800000       1.600000      0.300000   \n",
            "50%      75.500000       5.800000      3.000000       4.350000      1.300000   \n",
            "75%     112.750000       6.400000      3.300000       5.100000      1.800000   \n",
            "max     150.000000       7.900000      4.400000       6.900000      2.500000   \n",
            "\n",
            "            Species  \n",
            "count           150  \n",
            "unique            3  \n",
            "top     Iris-setosa  \n",
            "freq             50  \n",
            "mean            NaN  \n",
            "std             NaN  \n",
            "min             NaN  \n",
            "25%             NaN  \n",
            "50%             NaN  \n",
            "75%             NaN  \n",
            "max             NaN  \n"
          ]
        }
      ]
    },
    {
      "cell_type": "markdown",
      "metadata": {
        "id": "4f31512e"
      },
      "source": [
        "# Latihan (19)\n",
        "\n",
        "Hitunglah nilai mean dari dataset."
      ]
    },
    {
      "cell_type": "code",
      "source": [
        "#Latihan (19)\n",
        "#Hitung nilai Mean dari dataset\n",
        "\n",
        "print(df.mean(numeric_only=True))"
      ],
      "metadata": {
        "colab": {
          "base_uri": "https://localhost:8080/"
        },
        "id": "hOAl82KwP3vr",
        "outputId": "025c1007-c6b0-4861-f687-5c6f3446915f"
      },
      "execution_count": 19,
      "outputs": [
        {
          "output_type": "stream",
          "name": "stdout",
          "text": [
            "Id               75.500000\n",
            "SepalLengthCm     5.843333\n",
            "SepalWidthCm      3.054000\n",
            "PetalLengthCm     3.758667\n",
            "PetalWidthCm      1.198667\n",
            "dtype: float64\n"
          ]
        }
      ]
    },
    {
      "cell_type": "markdown",
      "metadata": {
        "id": "23bd472e"
      },
      "source": [
        "# Latihan (20)\n",
        "\n",
        "Hitung nilai mean dari dataset untuk kolom PetalLengthCm."
      ]
    },
    {
      "cell_type": "code",
      "source": [
        "#Latihan (20)\n",
        "#Hitung nilai Mean untuk kolom PetalLengthCm\n",
        "\n",
        "print(df['PetalLengthCm'].mean())"
      ],
      "metadata": {
        "colab": {
          "base_uri": "https://localhost:8080/"
        },
        "id": "JXs22AsgP7sP",
        "outputId": "b2347f89-affc-4d20-f0ab-733ce6a43383"
      },
      "execution_count": 20,
      "outputs": [
        {
          "output_type": "stream",
          "name": "stdout",
          "text": [
            "3.758666666666666\n"
          ]
        }
      ]
    },
    {
      "cell_type": "markdown",
      "metadata": {
        "id": "417bc17a"
      },
      "source": [
        "# Latihan (21)\n",
        "\n",
        "Carilah nilai minimal dari dataset untuk kolom SepalWidthCm."
      ]
    },
    {
      "cell_type": "code",
      "source": [
        "#Latihan (21)\n",
        "#Cari nilai minimal untuk kolom SepalWidthCm\n",
        "\n",
        "print(df['SepalWidthCm'].min())"
      ],
      "metadata": {
        "colab": {
          "base_uri": "https://localhost:8080/"
        },
        "id": "h_ZmYTv9QCRT",
        "outputId": "8220184f-5b50-4bcf-97c9-8549f45329a5"
      },
      "execution_count": 21,
      "outputs": [
        {
          "output_type": "stream",
          "name": "stdout",
          "text": [
            "2.0\n"
          ]
        }
      ]
    },
    {
      "cell_type": "markdown",
      "metadata": {
        "id": "cd473139"
      },
      "source": [
        "# Method Groupby\n",
        "\n",
        "Method groupby memungkinkan analisis dilakukan secara per kelompok nilai atribut tertentu."
      ]
    },
    {
      "cell_type": "markdown",
      "metadata": {
        "id": "f8cde661"
      },
      "source": [
        "# Latihan (22)\n",
        "\n",
        "Hitunglah nilai mean dari dataset untuk kolom SepalLengthCm per Species dengan menggunakan metode groupby."
      ]
    },
    {
      "cell_type": "code",
      "source": [
        "#Latihan (22)\n",
        "#Hitung nilai mean dari dataset untuk SepalLengthCm per Species dengan metode groupby\n",
        "mean_values = df.groupby('Species')['SepalLengthCm'].mean()\n",
        "print(mean_values)"
      ],
      "metadata": {
        "colab": {
          "base_uri": "https://localhost:8080/"
        },
        "id": "sTAXACxjQY5V",
        "outputId": "3d4e1dff-78d3-4c55-f945-fc689de5e179"
      },
      "execution_count": 22,
      "outputs": [
        {
          "output_type": "stream",
          "name": "stdout",
          "text": [
            "Species\n",
            "Iris-setosa        5.006\n",
            "Iris-versicolor    5.936\n",
            "Iris-virginica     6.588\n",
            "Name: SepalLengthCm, dtype: float64\n"
          ]
        }
      ]
    },
    {
      "cell_type": "markdown",
      "metadata": {
        "id": "f6ac7acf"
      },
      "source": [
        "# Method Value Count\n",
        "\n",
        "value_counts() menghasilkan frekuensi setiap nilai unik di dalam kolom, dan yang tertinggi count-nya adalah merupakan modus pada kolom tersebut."
      ]
    },
    {
      "cell_type": "markdown",
      "metadata": {
        "id": "e47a53ee"
      },
      "source": [
        "# Latihan (23)\n",
        "\n",
        "Hitunglah frekuensi pada kolom 'Species' dengan menggunakan metode value_counts()."
      ]
    },
    {
      "cell_type": "code",
      "source": [
        "#Latihan (23)\n",
        "#Hitung frekuensi pada kolom 'Species' dengan menggunakan metode value_counts()\n",
        "\n",
        "print(df['Species'].value_counts())"
      ],
      "metadata": {
        "colab": {
          "base_uri": "https://localhost:8080/"
        },
        "id": "PTkFmkm4QiuJ",
        "outputId": "3f1ff080-0a2f-44d8-f44a-6eb34fc255b6"
      },
      "execution_count": 23,
      "outputs": [
        {
          "output_type": "stream",
          "name": "stdout",
          "text": [
            "Iris-setosa        50\n",
            "Iris-versicolor    50\n",
            "Iris-virginica     50\n",
            "Name: Species, dtype: int64\n"
          ]
        }
      ]
    },
    {
      "cell_type": "markdown",
      "metadata": {
        "id": "94282ed6"
      },
      "source": [
        "# Latihan (24)\n",
        "\n",
        "Tampilkan perhitungan frekuensi pada kolom 'Species' dengan menggunakan metode value_counts() dalam bentuk dataframe."
      ]
    },
    {
      "cell_type": "code",
      "source": [
        "#Latihan (24)\n",
        "#Perhitungan frekuensi pada kolom 'Species' dengan menggunakan metode value_counts() dalam bentuk dataframe\n",
        "\n",
        "frekuensi = df['Species'].value_counts().reset_index()\n",
        "frekuensi.columns = ['Species','Frequency']\n",
        "print(frekuensi)"
      ],
      "metadata": {
        "colab": {
          "base_uri": "https://localhost:8080/"
        },
        "id": "HsOdwrQOQla0",
        "outputId": "a21eeea8-d052-4d7b-d17c-8206805a14f8"
      },
      "execution_count": 24,
      "outputs": [
        {
          "output_type": "stream",
          "name": "stdout",
          "text": [
            "           Species  Frequency\n",
            "0      Iris-setosa         50\n",
            "1  Iris-versicolor         50\n",
            "2   Iris-virginica         50\n"
          ]
        }
      ]
    },
    {
      "cell_type": "markdown",
      "metadata": {
        "id": "01b4ef41"
      },
      "source": [
        "# Latihan (25)\n",
        "\n",
        "Hitunglah frekuensi pada kolom 'PetalLenghCm' dengan menggunakan metode value_counts() dan dalam bentuk dataframe."
      ]
    },
    {
      "cell_type": "code",
      "source": [
        "#Latihan (25)\n",
        "# Hitung frekuensi pada kolom 'PetalLenghCm' dengan menggunakan metode value_counts()\n",
        "\n",
        "frekuensi = df['PetalLengthCm'].value_counts().reset_index()\n",
        "frekuensi.columns = ['PetalLengthCm','Frequency']\n",
        "print(frekuensi)"
      ],
      "metadata": {
        "colab": {
          "base_uri": "https://localhost:8080/"
        },
        "id": "GTRHdi9fQrXL",
        "outputId": "1b3e92ca-2bbf-478b-a79f-d47be5b71cf5"
      },
      "execution_count": 25,
      "outputs": [
        {
          "output_type": "stream",
          "name": "stdout",
          "text": [
            "    PetalLengthCm  Frequency\n",
            "0             1.5         14\n",
            "1             1.4         12\n",
            "2             5.1          8\n",
            "3             4.5          8\n",
            "4             1.6          7\n",
            "5             1.3          7\n",
            "6             5.6          6\n",
            "7             4.7          5\n",
            "8             4.9          5\n",
            "9             4.0          5\n",
            "10            4.2          4\n",
            "11            5.0          4\n",
            "12            4.4          4\n",
            "13            4.8          4\n",
            "14            1.7          4\n",
            "15            3.9          3\n",
            "16            4.6          3\n",
            "17            5.7          3\n",
            "18            4.1          3\n",
            "19            5.5          3\n",
            "20            6.1          3\n",
            "21            5.8          3\n",
            "22            3.3          2\n",
            "23            5.4          2\n",
            "24            6.7          2\n",
            "25            5.3          2\n",
            "26            5.9          2\n",
            "27            6.0          2\n",
            "28            1.2          2\n",
            "29            4.3          2\n",
            "30            1.9          2\n",
            "31            3.5          2\n",
            "32            5.2          2\n",
            "33            3.0          1\n",
            "34            1.1          1\n",
            "35            3.7          1\n",
            "36            3.8          1\n",
            "37            6.6          1\n",
            "38            6.3          1\n",
            "39            1.0          1\n",
            "40            6.9          1\n",
            "41            3.6          1\n",
            "42            6.4          1\n"
          ]
        }
      ]
    }
  ]
}